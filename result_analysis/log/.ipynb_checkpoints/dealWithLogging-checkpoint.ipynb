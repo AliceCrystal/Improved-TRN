{
 "cells": [
  {
   "cell_type": "code",
   "execution_count": 1,
   "metadata": {},
   "outputs": [],
   "source": [
    "import csv\n",
    "\n",
    "filename = \"TRN_something_RGB_BNInception_TRNmultiscaleWithClassifier_segment8.csv\"\n",
    "f = open(filename)\n",
    "reader = csv.reader(f)"
   ]
  },
  {
   "cell_type": "code",
   "execution_count": 2,
   "metadata": {},
   "outputs": [],
   "source": [
    "head_row = (reader)"
   ]
  },
  {
   "cell_type": "code",
   "execution_count": 3,
   "metadata": {},
   "outputs": [
    {
     "data": {
      "text/plain": [
       "['Epoch: [0][0/2151]',\n",
       " ' lr: 0.00100\\tTime 8.220 (8.220)\\tData 3.079 (3.079)\\tLoss 5.1683 (5.1683)\\tPrec@1 0.000 (0.000)\\tPrec@5 0.000 (0.000)']"
      ]
     },
     "execution_count": 3,
     "metadata": {},
     "output_type": "execute_result"
    }
   ],
   "source": [
    "head_row"
   ]
  },
  {
   "cell_type": "code",
   "execution_count": 4,
   "metadata": {},
   "outputs": [
    {
     "data": {
      "text/plain": [
       "'Epoch: [0][0/2151]'"
      ]
     },
     "execution_count": 4,
     "metadata": {},
     "output_type": "execute_result"
    }
   ],
   "source": [
    "head_row[0]"
   ]
  },
  {
   "cell_type": "code",
   "execution_count": 5,
   "metadata": {},
   "outputs": [
    {
     "data": {
      "text/plain": [
       "' lr: 0.00100\\tTime 8.220 (8.220)\\tData 3.079 (3.079)\\tLoss 5.1683 (5.1683)\\tPrec@1 0.000 (0.000)\\tPrec@5 0.000 (0.000)'"
      ]
     },
     "execution_count": 5,
     "metadata": {},
     "output_type": "execute_result"
    }
   ],
   "source": [
    "head_row[1]"
   ]
  },
  {
   "cell_type": "code",
   "execution_count": 6,
   "metadata": {},
   "outputs": [
    {
     "data": {
      "text/plain": [
       "str"
      ]
     },
     "execution_count": 6,
     "metadata": {},
     "output_type": "execute_result"
    }
   ],
   "source": [
    "type(head_row[1])"
   ]
  },
  {
   "cell_type": "code",
   "execution_count": 7,
   "metadata": {},
   "outputs": [],
   "source": [
    "elements = head_row[1].split('\\t')"
   ]
  },
  {
   "cell_type": "code",
   "execution_count": 8,
   "metadata": {},
   "outputs": [],
   "source": [
    "loss = elements[3]"
   ]
  },
  {
   "cell_type": "code",
   "execution_count": 9,
   "metadata": {},
   "outputs": [
    {
     "data": {
      "text/plain": [
       "'Loss 5.1683 (5.1683)'"
      ]
     },
     "execution_count": 9,
     "metadata": {},
     "output_type": "execute_result"
    }
   ],
   "source": [
    "loss"
   ]
  },
  {
   "cell_type": "code",
   "execution_count": 10,
   "metadata": {},
   "outputs": [
    {
     "data": {
      "text/plain": [
       "12"
      ]
     },
     "execution_count": 10,
     "metadata": {},
     "output_type": "execute_result"
    }
   ],
   "source": [
    "loss.find('(')"
   ]
  },
  {
   "cell_type": "code",
   "execution_count": 11,
   "metadata": {},
   "outputs": [
    {
     "data": {
      "text/plain": [
       "19"
      ]
     },
     "execution_count": 11,
     "metadata": {},
     "output_type": "execute_result"
    }
   ],
   "source": [
    "loss.find(')')"
   ]
  },
  {
   "cell_type": "code",
   "execution_count": 12,
   "metadata": {},
   "outputs": [
    {
     "data": {
      "text/plain": [
       "'5.1683'"
      ]
     },
     "execution_count": 12,
     "metadata": {},
     "output_type": "execute_result"
    }
   ],
   "source": [
    "loss[13:19]"
   ]
  },
  {
   "cell_type": "code",
   "execution_count": 13,
   "metadata": {},
   "outputs": [],
   "source": [
    "rows = list(reader)"
   ]
  },
  {
   "cell_type": "code",
   "execution_count": 18,
   "metadata": {},
   "outputs": [
    {
     "data": {
      "text/plain": [
       "['Epoch: [0][2140/2151]',\n",
       " ' lr: 0.00100\\tTime 0.358 (0.771)\\tData 0.000 (0.391)\\tLoss 4.9503 (5.0700)\\tPrec@1 5.000 (1.284)\\tPrec@5 17.500 (5.495)']"
      ]
     },
     "execution_count": 18,
     "metadata": {},
     "output_type": "execute_result"
    }
   ],
   "source": [
    "rows[106]"
   ]
  },
  {
   "cell_type": "code",
   "execution_count": 19,
   "metadata": {},
   "outputs": [
    {
     "data": {
      "text/plain": [
       "['Testing Results: Prec@1 13.383 Prec@5 35.159 Loss 4.00848 ']"
      ]
     },
     "execution_count": 19,
     "metadata": {},
     "output_type": "execute_result"
    }
   ],
   "source": [
    "rows[564]"
   ]
  },
  {
   "cell_type": "code",
   "execution_count": 32,
   "metadata": {},
   "outputs": [
    {
     "data": {
      "text/plain": [
       "['Testing',\n",
       " 'Results:',\n",
       " 'Prec@1',\n",
       " '13.383',\n",
       " 'Prec@5',\n",
       " '35.159',\n",
       " 'Loss',\n",
       " '4.00848',\n",
       " '']"
      ]
     },
     "execution_count": 32,
     "metadata": {},
     "output_type": "execute_result"
    }
   ],
   "source": [
    "rows[564][0].split(' ')"
   ]
  },
  {
   "cell_type": "code",
   "execution_count": 27,
   "metadata": {},
   "outputs": [],
   "source": [
    "# 提取训练loss，prec1，prec5\n",
    "def extract_train_result(row):\n",
    "    elements = row[1].split('\\t')\n",
    "    loss, prec1, prec5 = elements[3:]\n",
    "    loss_l, loss_r = loss.find('('), loss.find(')')\n",
    "    prec1_l, prec1_r = prec1.find('('), prec1.find(')')\n",
    "    prec5_l, prec5_r = prec5.find('('), prec5.find(')')\n",
    "    return [float(loss[loss_l+1:loss_r]), float(prec1[prec1_l+1:prec1_r]), float(prec5[prec5_l+1:prec5_r])]\n"
   ]
  },
  {
   "cell_type": "code",
   "execution_count": 36,
   "metadata": {},
   "outputs": [],
   "source": [
    "# 提取测试loss，prec1，prec5\n",
    "def extract_test_result(row):\n",
    "    elements = row[0].split(' ')\n",
    "    loss, prec1, prec5 = elements[7], elements[3], elements[5]\n",
    "    return [float(loss), float(prec1), float(prec5)]"
   ]
  },
  {
   "cell_type": "code",
   "execution_count": 43,
   "metadata": {},
   "outputs": [],
   "source": [
    "train_loss, train_prec1, train_prec5 = [], [], []\n",
    "test_loss, test_prec1, test_prec5 = [], [], []\n",
    "for row in rows:\n",
    "    if len(row) > 1 and '2140' in row[0]:\n",
    "        ret = extract_train_result(row)\n",
    "        train_loss.append(ret[0])\n",
    "        train_prec1.append(ret[1])\n",
    "        train_prec5.append(ret[2])\n",
    "    elif 'Testing Results' in row[0]:\n",
    "        ret = extract_test_result(row)\n",
    "        test_loss.append(ret[0])\n",
    "        test_prec1.append(ret[1])\n",
    "        test_prec5.append(ret[2])\n",
    "        "
   ]
  },
  {
   "cell_type": "code",
   "execution_count": 56,
   "metadata": {},
   "outputs": [
    {
     "data": {
      "image/png": "[encoded data removed]",
      "text/plain": [
       "<Figure size 432x288 with 1 Axes>"
      ]
     },
     "metadata": {
      "needs_background": "light"
     },
     "output_type": "display_data"
    }
   ],
   "source": [
    "import matplotlib.pyplot as plt\n",
    "import numpy as np\n",
    "\n",
    "train_x = np.linspace(1, 100, 100)\n",
    "test_x = np.linspace(5, 100, 20)\n",
    "\n",
    "plt.plot(train_x, train_loss, label='train loss')\n",
    "plt.plot(test_x, test_loss, label='test loss')\n",
    "\n",
    "plt.xlabel('steps')\n",
    "plt.ylabel('losses')\n",
    "\n",
    "plt.title('Loss Process')\n",
    "\n",
    "plt.legend()\n",
    "\n",
    "plt.show()"
   ]
  },
  {
   "cell_type": "code",
   "execution_count": 57,
   "metadata": {},
   "outputs": [
    {
     "data": {
      "image/png": "[encoded data removed]",
      "text/plain": [
       "<Figure size 432x288 with 1 Axes>"
      ]
     },
     "metadata": {
      "needs_background": "light"
     },
     "output_type": "display_data"
    }
   ],
   "source": [
    "train_x = np.linspace(1, 100, 100)\n",
    "test_x = np.linspace(5, 100, 20)\n",
    "\n",
    "plt.plot(train_x, train_prec1, label='train prec1')\n",
    "plt.plot(test_x, test_prec1, label='test prec1')\n",
    "\n",
    "plt.xlabel('steps')\n",
    "plt.ylabel('prec1')\n",
    "\n",
    "plt.title('Prec1 Process')\n",
    "\n",
    "plt.legend()\n",
    "\n",
    "plt.show()"
   ]
  },
  {
   "cell_type": "code",
   "execution_count": 58,
   "metadata": {},
   "outputs": [
    {
     "data": {
      "image/png": "[encoded data removed]",
      "text/plain": [
       "<Figure size 432x288 with 1 Axes>"
      ]
     },
     "metadata": {
      "needs_background": "light"
     },
     "output_type": "display_data"
    }
   ],
   "source": [
    "train_x = np.linspace(1, 100, 100)\n",
    "test_x = np.linspace(5, 100, 20)\n",
    "\n",
    "plt.plot(train_x, train_prec5, label='train prec5')\n",
    "plt.plot(test_x, test_prec5, label='test prec5')\n",
    "\n",
    "plt.xlabel('steps')\n",
    "plt.ylabel('prec5')\n",
    "\n",
    "plt.title('Prec5 Process')\n",
    "\n",
    "plt.legend()\n",
    "\n",
    "plt.show()"
   ]
  }
 ],
 "metadata": {
  "kernelspec": {
   "display_name": "Python 3",
   "language": "python",
   "name": "python3"
  },
  "language_info": {
   "codemirror_mode": {
    "name": "ipython",
    "version": 3
   },
   "file_extension": ".py",
   "mimetype": "text/x-python",
   "name": "python",
   "nbconvert_exporter": "python",
   "pygments_lexer": "ipython3",
   "version": "3.7.5"
  }
 },
 "nbformat": 4,
 "nbformat_minor": 4
}
